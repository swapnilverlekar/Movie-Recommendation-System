{
 "cells": [
  {
   "cell_type": "markdown",
   "id": "B_qTXp_hmvIN",
   "metadata": {
    "id": "B_qTXp_hmvIN"
   },
   "source": [
    "# Movie Recommendation System"
   ]
  },
  {
   "cell_type": "code",
   "execution_count": 37,
   "id": "d809594e",
   "metadata": {
    "colab": {
     "base_uri": "https://localhost:8080/"
    },
    "id": "d809594e",
    "outputId": "50eeab58-ad83-4128-fff2-47dc2f96a800"
   },
   "outputs": [],
   "source": [
    "import numpy as np\n",
    "import pandas as pd"
   ]
  },
  {
   "cell_type": "code",
   "execution_count": 38,
   "id": "m9iDYTBLqjEU",
   "metadata": {
    "colab": {
     "base_uri": "https://localhost:8080/"
    },
    "id": "m9iDYTBLqjEU",
    "outputId": "e3839b50-d050-437d-afe7-ab2fa48004e1"
   },
   "outputs": [
    {
     "name": "stdout",
     "output_type": "stream",
     "text": [
      "Requirement already satisfied: surprise in /Users/swapn/opt/anaconda3/lib/python3.9/site-packages (0.1)\r\n",
      "Requirement already satisfied: scikit-surprise in /Users/swapn/opt/anaconda3/lib/python3.9/site-packages (from surprise) (1.1.3)\r\n",
      "Requirement already satisfied: numpy>=1.17.3 in /Users/swapn/opt/anaconda3/lib/python3.9/site-packages (from scikit-surprise->surprise) (1.21.5)\r\n",
      "Requirement already satisfied: scipy>=1.3.2 in /Users/swapn/opt/anaconda3/lib/python3.9/site-packages (from scikit-surprise->surprise) (1.7.3)\r\n",
      "Requirement already satisfied: joblib>=1.0.0 in /Users/swapn/opt/anaconda3/lib/python3.9/site-packages (from scikit-surprise->surprise) (1.1.0)\r\n"
     ]
    }
   ],
   "source": [
    "!pip install surprise"
   ]
  },
  {
   "cell_type": "markdown",
   "id": "cd413434",
   "metadata": {},
   "source": [
    "Please make sure to add proper dataset path while running the cells."
   ]
  },
  {
   "cell_type": "markdown",
   "id": "14DNMneLmHUW",
   "metadata": {
    "id": "14DNMneLmHUW"
   },
   "source": [
    "# Recommendation System using K-Nearest Neighbors algorithm"
   ]
  },
  {
   "cell_type": "markdown",
   "id": "AzOJq-Ow1Sp5",
   "metadata": {
    "id": "AzOJq-Ow1Sp5"
   },
   "source": [
    "Load Datasets and libraries"
   ]
  },
  {
   "cell_type": "code",
   "execution_count": 40,
   "id": "PMwVdUJbcODe",
   "metadata": {
    "colab": {
     "base_uri": "https://localhost:8080/"
    },
    "id": "PMwVdUJbcODe",
    "outputId": "4a904083-4e90-4c6d-aa4a-824d7b6a0b74"
   },
   "outputs": [],
   "source": [
    "from sklearn.feature_extraction.text import TfidfVectorizer\n",
    "from sklearn.metrics.pairwise import linear_kernel\n",
    "from sklearn.model_selection import train_test_split\n",
    "from sklearn.preprocessing import MinMaxScaler\n",
    "from sklearn.metrics import mean_squared_error, mean_absolute_error\n",
    "\n",
    "movies = pd.read_csv('movies.csv')\n",
    "ratings = pd.read_csv('ratings.csv')"
   ]
  },
  {
   "cell_type": "code",
   "execution_count": 41,
   "id": "FsAn7AAC1W-p",
   "metadata": {
    "id": "FsAn7AAC1W-p"
   },
   "outputs": [],
   "source": [
    "data = pd.merge(movies, ratings)\n",
    "data = data.dropna()"
   ]
  },
  {
   "cell_type": "markdown",
   "id": "u7AvI8pp1qMw",
   "metadata": {
    "id": "u7AvI8pp1qMw"
   },
   "source": [
    "Normalize the Data using Min Max Scalar and split train test"
   ]
  },
  {
   "cell_type": "code",
   "execution_count": 42,
   "id": "4aXDHXeW1n4D",
   "metadata": {
    "id": "4aXDHXeW1n4D"
   },
   "outputs": [
    {
     "name": "stdout",
     "output_type": "stream",
     "text": [
      "       movieId                                            title  \\\n",
      "80568    35836                   40-Year-Old Virgin, The (2005)   \n",
      "50582     3000         Princess Mononoke (Mononoke-hime) (1997)   \n",
      "8344       308  Three Colors: White (Trzy kolory: Bialy) (1994)   \n",
      "99603   148881                         World of Tomorrow (2015)   \n",
      "71701     6593                             Freaky Friday (2003)   \n",
      "\n",
      "                                         genres  userId    rating   timestamp  \n",
      "80568                            Comedy|Romance     306  0.444444  1518381028  \n",
      "50582  Action|Adventure|Animation|Drama|Fantasy     182  1.000000  1054781963  \n",
      "8344                               Comedy|Drama      40  1.000000   832059658  \n",
      "99603                          Animation|Comedy     567  1.000000  1525282206  \n",
      "71701                   Children|Comedy|Fantasy     426  0.777778  1451080526  \n"
     ]
    }
   ],
   "source": [
    "scaler = MinMaxScaler()\n",
    "data['rating'] = scaler.fit_transform(data[['rating']])\n",
    "\n",
    "train_data, test_data = train_test_split(data, test_size=0.2, random_state=42) \n",
    "print(train_data.head(5))"
   ]
  },
  {
   "cell_type": "markdown",
   "id": "98LslSDV14UZ",
   "metadata": {
    "id": "98LslSDV14UZ"
   },
   "source": [
    "Vectorize the data using tfidf and find the tfidf matrix, "
   ]
  },
  {
   "cell_type": "code",
   "execution_count": 43,
   "id": "_glaBWMQ14r4",
   "metadata": {
    "id": "_glaBWMQ14r4"
   },
   "outputs": [],
   "source": [
    "tfidf_vectorizer = TfidfVectorizer(stop_words='english')\n",
    "tfidf_matrix = tfidf_vectorizer.fit_transform(train_data['title'] + \" \" + train_data['genres'])\n",
    "movie_id_to_index = {movie_id: index for index, movie_id in enumerate(train_data['movieId'])}"
   ]
  },
  {
   "cell_type": "markdown",
   "id": "7y4pdWYV2HiZ",
   "metadata": {
    "id": "7y4pdWYV2HiZ"
   },
   "source": [
    "KNN algorithm to find k nearest neighbors and cosine similarity"
   ]
  },
  {
   "cell_type": "code",
   "execution_count": 44,
   "id": "ZpedNmC82Hwo",
   "metadata": {
    "id": "ZpedNmC82Hwo"
   },
   "outputs": [],
   "source": [
    "def knn(query_index, tfidf_matrix, k=25):\n",
    "    cosine_similarities = linear_kernel(tfidf_matrix[query_index], tfidf_matrix).flatten()\n",
    "    neighbor_indices = cosine_similarities.argsort()[:-k-1:-1]\n",
    "    return neighbor_indices"
   ]
  },
  {
   "cell_type": "markdown",
   "id": "ue03a20j2X57",
   "metadata": {
    "id": "ue03a20j2X57"
   },
   "source": [
    "Predict rating for test data and find rmse and mae"
   ]
  },
  {
   "cell_type": "code",
   "execution_count": 45,
   "id": "AVhr68uQ2WxQ",
   "metadata": {
    "id": "AVhr68uQ2WxQ"
   },
   "outputs": [
    {
     "name": "stdout",
     "output_type": "stream",
     "text": [
      "\n",
      "Test RMSE: 0.6794391046834429\n",
      "\n",
      "Test MAE: 0.6242411944902655\n"
     ]
    }
   ],
   "source": [
    "def predict_rating(user_id, movie_id, train_data, tfidf_matrix, k=25):\n",
    "    user_ratings = train_data[train_data['userId'] == user_id]\n",
    "    if len(user_ratings) == 0:\n",
    "        return 0\n",
    "    query_index = movie_id_to_index.get(movie_id)\n",
    "    if query_index is None:\n",
    "        return 0\n",
    "\n",
    "    neighbors = knn(query_index, tfidf_matrix, k)\n",
    "    sum_similarities = 0\n",
    "    weighted_sum = 0\n",
    "\n",
    "    for neighbor in neighbors:\n",
    "        similarity = np.dot(tfidf_matrix[query_index], tfidf_matrix[neighbor].T).toarray()[0][0]\n",
    "        neighbor_rating = user_ratings.loc[user_ratings['movieId'] == neighbor, 'rating'].values\n",
    "        if len(neighbor_rating) > 0:\n",
    "            weighted_sum += similarity * neighbor_rating[0]\n",
    "            sum_similarities += similarity\n",
    "\n",
    "    if sum_similarities == 0:\n",
    "        return 0\n",
    "    else:\n",
    "        return weighted_sum / sum_similarities\n",
    "    \n",
    "    \n",
    "    \n",
    "test_predictions = []\n",
    "test_actual = []\n",
    "\n",
    "for index, row in test_data.iterrows():\n",
    "    prediction = predict_rating(row['userId'], row['movieId'], train_data, tfidf_matrix)\n",
    "    test_predictions.append(prediction)\n",
    "    test_actual.append(row['rating'])\n",
    "\n",
    "test_rmse = np.sqrt(mean_squared_error(test_actual, test_predictions))\n",
    "test_mae = mean_absolute_error(test_actual, test_predictions)\n",
    "print(f\"\\nTest RMSE: {test_rmse}\")\n",
    "print(f\"\\nTest MAE: {test_mae}\")"
   ]
  },
  {
   "cell_type": "markdown",
   "id": "g_8O4Exkgine",
   "metadata": {
    "id": "g_8O4Exkgine"
   },
   "source": [
    "# Recommendation System with Collaborative Filtering using User Ratings"
   ]
  },
  {
   "cell_type": "code",
   "execution_count": 47,
   "id": "5f99f562",
   "metadata": {
    "id": "5f99f562"
   },
   "outputs": [],
   "source": [
    "#reading data\n",
    "movies_df = pd.read_csv('movies.csv')\n",
    "ratings_df = pd.read_csv('ratings.csv')"
   ]
  },
  {
   "cell_type": "markdown",
   "id": "84cd506f",
   "metadata": {
    "id": "84cd506f"
   },
   "source": [
    "## Preprocessing"
   ]
  },
  {
   "cell_type": "code",
   "execution_count": 48,
   "id": "335a110b",
   "metadata": {
    "colab": {
     "base_uri": "https://localhost:8080/",
     "height": 206
    },
    "id": "335a110b",
    "outputId": "4652dee4-1b23-423e-87e5-0f0bdd5359b5"
   },
   "outputs": [
    {
     "data": {
      "text/html": [
       "<div>\n",
       "<style scoped>\n",
       "    .dataframe tbody tr th:only-of-type {\n",
       "        vertical-align: middle;\n",
       "    }\n",
       "\n",
       "    .dataframe tbody tr th {\n",
       "        vertical-align: top;\n",
       "    }\n",
       "\n",
       "    .dataframe thead th {\n",
       "        text-align: right;\n",
       "    }\n",
       "</style>\n",
       "<table border=\"1\" class=\"dataframe\">\n",
       "  <thead>\n",
       "    <tr style=\"text-align: right;\">\n",
       "      <th></th>\n",
       "      <th>movieId</th>\n",
       "      <th>title</th>\n",
       "      <th>genres</th>\n",
       "    </tr>\n",
       "  </thead>\n",
       "  <tbody>\n",
       "    <tr>\n",
       "      <th>0</th>\n",
       "      <td>1</td>\n",
       "      <td>Toy Story (1995)</td>\n",
       "      <td>Adventure|Animation|Children|Comedy|Fantasy</td>\n",
       "    </tr>\n",
       "    <tr>\n",
       "      <th>1</th>\n",
       "      <td>2</td>\n",
       "      <td>Jumanji (1995)</td>\n",
       "      <td>Adventure|Children|Fantasy</td>\n",
       "    </tr>\n",
       "    <tr>\n",
       "      <th>2</th>\n",
       "      <td>3</td>\n",
       "      <td>Grumpier Old Men (1995)</td>\n",
       "      <td>Comedy|Romance</td>\n",
       "    </tr>\n",
       "    <tr>\n",
       "      <th>3</th>\n",
       "      <td>4</td>\n",
       "      <td>Waiting to Exhale (1995)</td>\n",
       "      <td>Comedy|Drama|Romance</td>\n",
       "    </tr>\n",
       "    <tr>\n",
       "      <th>4</th>\n",
       "      <td>5</td>\n",
       "      <td>Father of the Bride Part II (1995)</td>\n",
       "      <td>Comedy</td>\n",
       "    </tr>\n",
       "  </tbody>\n",
       "</table>\n",
       "</div>"
      ],
      "text/plain": [
       "   movieId                               title  \\\n",
       "0        1                    Toy Story (1995)   \n",
       "1        2                      Jumanji (1995)   \n",
       "2        3             Grumpier Old Men (1995)   \n",
       "3        4            Waiting to Exhale (1995)   \n",
       "4        5  Father of the Bride Part II (1995)   \n",
       "\n",
       "                                        genres  \n",
       "0  Adventure|Animation|Children|Comedy|Fantasy  \n",
       "1                   Adventure|Children|Fantasy  \n",
       "2                               Comedy|Romance  \n",
       "3                         Comedy|Drama|Romance  \n",
       "4                                       Comedy  "
      ]
     },
     "execution_count": 48,
     "metadata": {},
     "output_type": "execute_result"
    }
   ],
   "source": [
    "movies_df.head()"
   ]
  },
  {
   "cell_type": "code",
   "execution_count": 49,
   "id": "f1a91260",
   "metadata": {
    "colab": {
     "base_uri": "https://localhost:8080/",
     "height": 241
    },
    "id": "f1a91260",
    "outputId": "0c09098f-bf8b-45bd-b685-df56320f975d"
   },
   "outputs": [
    {
     "name": "stderr",
     "output_type": "stream",
     "text": [
      "/var/folders/fb/q3n9wf897zn6lqppfzmcc6z40000gn/T/ipykernel_20456/1236650903.py:5: FutureWarning: The default value of regex will change from True to False in a future version.\n",
      "  movies_df['title'] = movies_df.title.str.replace('(\\(\\d\\d\\d\\d\\))', '')\n"
     ]
    },
    {
     "data": {
      "text/html": [
       "<div>\n",
       "<style scoped>\n",
       "    .dataframe tbody tr th:only-of-type {\n",
       "        vertical-align: middle;\n",
       "    }\n",
       "\n",
       "    .dataframe tbody tr th {\n",
       "        vertical-align: top;\n",
       "    }\n",
       "\n",
       "    .dataframe thead th {\n",
       "        text-align: right;\n",
       "    }\n",
       "</style>\n",
       "<table border=\"1\" class=\"dataframe\">\n",
       "  <thead>\n",
       "    <tr style=\"text-align: right;\">\n",
       "      <th></th>\n",
       "      <th>movieId</th>\n",
       "      <th>title</th>\n",
       "      <th>year</th>\n",
       "    </tr>\n",
       "  </thead>\n",
       "  <tbody>\n",
       "    <tr>\n",
       "      <th>0</th>\n",
       "      <td>1</td>\n",
       "      <td>Toy Story</td>\n",
       "      <td>1995</td>\n",
       "    </tr>\n",
       "    <tr>\n",
       "      <th>1</th>\n",
       "      <td>2</td>\n",
       "      <td>Jumanji</td>\n",
       "      <td>1995</td>\n",
       "    </tr>\n",
       "    <tr>\n",
       "      <th>2</th>\n",
       "      <td>3</td>\n",
       "      <td>Grumpier Old Men</td>\n",
       "      <td>1995</td>\n",
       "    </tr>\n",
       "    <tr>\n",
       "      <th>3</th>\n",
       "      <td>4</td>\n",
       "      <td>Waiting to Exhale</td>\n",
       "      <td>1995</td>\n",
       "    </tr>\n",
       "    <tr>\n",
       "      <th>4</th>\n",
       "      <td>5</td>\n",
       "      <td>Father of the Bride Part II</td>\n",
       "      <td>1995</td>\n",
       "    </tr>\n",
       "  </tbody>\n",
       "</table>\n",
       "</div>"
      ],
      "text/plain": [
       "   movieId                         title  year\n",
       "0        1                    Toy Story   1995\n",
       "1        2                      Jumanji   1995\n",
       "2        3             Grumpier Old Men   1995\n",
       "3        4            Waiting to Exhale   1995\n",
       "4        5  Father of the Bride Part II   1995"
      ]
     },
     "execution_count": 49,
     "metadata": {},
     "output_type": "execute_result"
    }
   ],
   "source": [
    "movies_df['year'] = movies_df.title.str.extract('(\\(\\d\\d\\d\\d\\))',expand=False)\n",
    "#Removing paranthesis\n",
    "movies_df['year'] = movies_df.year.str.extract('(\\d\\d\\d\\d)',expand=False)\n",
    "#Removing the years from the 'title' column\n",
    "movies_df['title'] = movies_df.title.str.replace('(\\(\\d\\d\\d\\d\\))', '')\n",
    "#Drop genres\n",
    "movies_df = movies_df.drop('genres', axis = 1)\n",
    "movies_df.head()"
   ]
  },
  {
   "cell_type": "code",
   "execution_count": 50,
   "id": "G_RgGpNaXvdf",
   "metadata": {
    "colab": {
     "base_uri": "https://localhost:8080/",
     "height": 206
    },
    "id": "G_RgGpNaXvdf",
    "outputId": "98d6245d-e35a-4224-8c35-9196028915c7"
   },
   "outputs": [
    {
     "data": {
      "text/html": [
       "<div>\n",
       "<style scoped>\n",
       "    .dataframe tbody tr th:only-of-type {\n",
       "        vertical-align: middle;\n",
       "    }\n",
       "\n",
       "    .dataframe tbody tr th {\n",
       "        vertical-align: top;\n",
       "    }\n",
       "\n",
       "    .dataframe thead th {\n",
       "        text-align: right;\n",
       "    }\n",
       "</style>\n",
       "<table border=\"1\" class=\"dataframe\">\n",
       "  <thead>\n",
       "    <tr style=\"text-align: right;\">\n",
       "      <th></th>\n",
       "      <th>userId</th>\n",
       "      <th>movieId</th>\n",
       "      <th>rating</th>\n",
       "    </tr>\n",
       "  </thead>\n",
       "  <tbody>\n",
       "    <tr>\n",
       "      <th>0</th>\n",
       "      <td>1</td>\n",
       "      <td>1</td>\n",
       "      <td>4.0</td>\n",
       "    </tr>\n",
       "    <tr>\n",
       "      <th>1</th>\n",
       "      <td>1</td>\n",
       "      <td>3</td>\n",
       "      <td>4.0</td>\n",
       "    </tr>\n",
       "    <tr>\n",
       "      <th>2</th>\n",
       "      <td>1</td>\n",
       "      <td>6</td>\n",
       "      <td>4.0</td>\n",
       "    </tr>\n",
       "    <tr>\n",
       "      <th>3</th>\n",
       "      <td>1</td>\n",
       "      <td>47</td>\n",
       "      <td>5.0</td>\n",
       "    </tr>\n",
       "    <tr>\n",
       "      <th>4</th>\n",
       "      <td>1</td>\n",
       "      <td>50</td>\n",
       "      <td>5.0</td>\n",
       "    </tr>\n",
       "  </tbody>\n",
       "</table>\n",
       "</div>"
      ],
      "text/plain": [
       "   userId  movieId  rating\n",
       "0       1        1     4.0\n",
       "1       1        3     4.0\n",
       "2       1        6     4.0\n",
       "3       1       47     5.0\n",
       "4       1       50     5.0"
      ]
     },
     "execution_count": 50,
     "metadata": {},
     "output_type": "execute_result"
    }
   ],
   "source": [
    "# Dropping timestamp from ratings dataframe\n",
    "ratings_df = ratings_df.drop('timestamp', axis = 1)\n",
    "ratings_df.head()"
   ]
  },
  {
   "cell_type": "markdown",
   "id": "mXK-STmjX7_h",
   "metadata": {
    "id": "mXK-STmjX7_h"
   },
   "source": [
    "### Taking User Input "
   ]
  },
  {
   "cell_type": "code",
   "execution_count": 51,
   "id": "aea15404",
   "metadata": {
    "id": "aea15404"
   },
   "outputs": [],
   "source": [
    "userInput = [\n",
    "            {'movieId':1968, 'rating':5},\n",
    "            {'movieId':1, 'rating':3.5},\n",
    "            {'movieId':2, 'rating':2},\n",
    "            {'movieId':296, 'rating':5},\n",
    "            {'movieId':1274, 'rating':4.5}\n",
    "         ] \n",
    "user_df = pd.DataFrame(userInput)"
   ]
  },
  {
   "cell_type": "code",
   "execution_count": 52,
   "id": "Oasn8rX4mimC",
   "metadata": {
    "id": "Oasn8rX4mimC"
   },
   "outputs": [],
   "source": [
    "# Custom Input\n",
    "\n",
    "# def takeUserInput():\n",
    "#   userIp = []\n",
    "#   while True:\n",
    "#     movieId = input(\"Enter the watched movieID or done to exit:\\t\")\n",
    "#     if movieId == 'done':\n",
    "#       break\n",
    "#     rating = float(input(f\"Enter the rating for {movieId} out of 5:\\t\"))\n",
    "#     userIp.append({'movieId':int(movieId), 'rating':rating})\n",
    "#   return pd.DataFrame(userIp)\n",
    "\n",
    "# user_df = takeUserInput()\n",
    "# user_df"
   ]
  },
  {
   "cell_type": "code",
   "execution_count": 53,
   "id": "9772e143",
   "metadata": {
    "colab": {
     "base_uri": "https://localhost:8080/",
     "height": 206
    },
    "id": "9772e143",
    "outputId": "da8dd948-4529-454a-daae-b654087f5f0c"
   },
   "outputs": [
    {
     "data": {
      "text/html": [
       "<div>\n",
       "<style scoped>\n",
       "    .dataframe tbody tr th:only-of-type {\n",
       "        vertical-align: middle;\n",
       "    }\n",
       "\n",
       "    .dataframe tbody tr th {\n",
       "        vertical-align: top;\n",
       "    }\n",
       "\n",
       "    .dataframe thead th {\n",
       "        text-align: right;\n",
       "    }\n",
       "</style>\n",
       "<table border=\"1\" class=\"dataframe\">\n",
       "  <thead>\n",
       "    <tr style=\"text-align: right;\">\n",
       "      <th></th>\n",
       "      <th>movieId</th>\n",
       "      <th>rating</th>\n",
       "      <th>title</th>\n",
       "    </tr>\n",
       "  </thead>\n",
       "  <tbody>\n",
       "    <tr>\n",
       "      <th>1</th>\n",
       "      <td>1</td>\n",
       "      <td>3.5</td>\n",
       "      <td>Toy Story</td>\n",
       "    </tr>\n",
       "    <tr>\n",
       "      <th>2</th>\n",
       "      <td>2</td>\n",
       "      <td>2.0</td>\n",
       "      <td>Jumanji</td>\n",
       "    </tr>\n",
       "    <tr>\n",
       "      <th>3</th>\n",
       "      <td>296</td>\n",
       "      <td>5.0</td>\n",
       "      <td>Pulp Fiction</td>\n",
       "    </tr>\n",
       "    <tr>\n",
       "      <th>4</th>\n",
       "      <td>1274</td>\n",
       "      <td>4.5</td>\n",
       "      <td>Akira</td>\n",
       "    </tr>\n",
       "    <tr>\n",
       "      <th>0</th>\n",
       "      <td>1968</td>\n",
       "      <td>5.0</td>\n",
       "      <td>Breakfast Club, The</td>\n",
       "    </tr>\n",
       "  </tbody>\n",
       "</table>\n",
       "</div>"
      ],
      "text/plain": [
       "   movieId  rating                 title\n",
       "1        1     3.5            Toy Story \n",
       "2        2     2.0              Jumanji \n",
       "3      296     5.0         Pulp Fiction \n",
       "4     1274     4.5                Akira \n",
       "0     1968     5.0  Breakfast Club, The "
      ]
     },
     "execution_count": 53,
     "metadata": {},
     "output_type": "execute_result"
    }
   ],
   "source": [
    "# Preprocessing the User input\n",
    "user_df = pd.merge(user_df, movies_df, on=\"movieId\", how=\"left\")\n",
    "user_df.drop('year', axis = 1, inplace = True)\n",
    "user_df.sort_values(by=['movieId'])"
   ]
  },
  {
   "cell_type": "markdown",
   "id": "e18a153b",
   "metadata": {
    "id": "e18a153b"
   },
   "source": [
    "### The users who has seen the same movies"
   ]
  },
  {
   "cell_type": "code",
   "execution_count": 54,
   "id": "2cfd560b",
   "metadata": {
    "colab": {
     "base_uri": "https://localhost:8080/"
    },
    "id": "2cfd560b",
    "outputId": "b88a7d2e-ba3a-4582-ff94-0dce6a5a5f97"
   },
   "outputs": [],
   "source": [
    "#Filtering out users that have watched movies that the input has watched and storing it\n",
    "selectedUser = ratings_df[ratings_df['movieId'].isin(user_df['movieId'].tolist())]\n",
    "#Groupby creates several sub dataframes where they all have the same value in the column specified as the parameter\n",
    "selectedUserGroup = selectedUser.groupby(['userId'])\n",
    "#Sorting it so users with movie most in common with the input will have priority\n",
    "selectedUserGroup = sorted(selectedUserGroup,  key=lambda x: len(x[1]), reverse=True)\n",
    "selectedUserGroup = selectedUserGroup[0:100]"
   ]
  },
  {
   "cell_type": "code",
   "execution_count": 55,
   "id": "96c66ac4",
   "metadata": {
    "id": "96c66ac4"
   },
   "outputs": [],
   "source": [
    "pcd = {}\n",
    "for name, group in selectedUserGroup:\n",
    "    group = group.sort_values(by='movieId')\n",
    "    user_df = user_df.sort_values(by='movieId')\n",
    "    nRatings = len(group)\n",
    "    temp_df = user_df[user_df['movieId'].isin(group['movieId'].tolist())]\n",
    "    \n",
    "    tempRatingList = temp_df['rating'].tolist()\n",
    "    tempGroupList = group['rating'].tolist()\n",
    "    \n",
    "    Sxx = sum([i**2 for i in tempRatingList]) - pow(sum(tempRatingList),2)/float(nRatings)\n",
    "    Syy = sum([i**2 for i in tempGroupList]) - pow(sum(tempGroupList),2)/float(nRatings)\n",
    "    Sxy = sum( i*j for i, j in zip(tempRatingList, tempGroupList)) - sum(tempRatingList)*sum(tempGroupList)/float(nRatings)\n",
    "    \n",
    "    if Sxx != 0 and Syy != 0:\n",
    "        pcd[name] = Sxy/np.sqrt(Sxx*Syy)\n",
    "    else:\n",
    "        pcd[name] = 0"
   ]
  },
  {
   "cell_type": "code",
   "execution_count": 56,
   "id": "ff1c8972",
   "metadata": {
    "id": "ff1c8972"
   },
   "outputs": [],
   "source": [
    "r_df = pd.DataFrame.from_dict(pcd, orient='index')\n",
    "r_df.columns = ['similarityIndex']\n",
    "r_df['userId'] = r_df.index\n",
    "r_df.index = range(len(r_df))\n",
    "topUsers=r_df.sort_values(by='similarityIndex', ascending=False)[0:50]"
   ]
  },
  {
   "cell_type": "markdown",
   "id": "5a4b088f",
   "metadata": {
    "id": "5a4b088f"
   },
   "source": [
    "### Weighted Average\n",
    "#### Rating of selected users to all movies\n",
    "\n"
   ]
  },
  {
   "cell_type": "code",
   "execution_count": 57,
   "id": "baf63d31",
   "metadata": {
    "id": "baf63d31"
   },
   "outputs": [],
   "source": [
    "selectedUsersRating = topUsers.merge(ratings_df, left_on='userId', right_on='userId', how='inner')\n",
    "#Multiplies the similarity by the user's ratings\n",
    "selectedUsersRating['weightedRating'] = selectedUsersRating['similarityIndex']*selectedUsersRating['rating']"
   ]
  },
  {
   "cell_type": "code",
   "execution_count": 58,
   "id": "3a6dc885",
   "metadata": {
    "id": "3a6dc885"
   },
   "outputs": [],
   "source": [
    "#Applies a sum to the topUsers after grouping it up by userId\n",
    "temp_Rating = selectedUsersRating.groupby('movieId').sum()[['similarityIndex','weightedRating']]\n",
    "temp_Rating.columns = ['sum_similarityIndex','sum_weightedRating']"
   ]
  },
  {
   "cell_type": "code",
   "execution_count": 59,
   "id": "00ed5371",
   "metadata": {
    "colab": {
     "base_uri": "https://localhost:8080/",
     "height": 238
    },
    "id": "00ed5371",
    "outputId": "d742c9ea-5284-4470-a051-1b13bedfb836"
   },
   "outputs": [
    {
     "data": {
      "text/html": [
       "<div>\n",
       "<style scoped>\n",
       "    .dataframe tbody tr th:only-of-type {\n",
       "        vertical-align: middle;\n",
       "    }\n",
       "\n",
       "    .dataframe tbody tr th {\n",
       "        vertical-align: top;\n",
       "    }\n",
       "\n",
       "    .dataframe thead th {\n",
       "        text-align: right;\n",
       "    }\n",
       "</style>\n",
       "<table border=\"1\" class=\"dataframe\">\n",
       "  <thead>\n",
       "    <tr style=\"text-align: right;\">\n",
       "      <th></th>\n",
       "      <th>weighted average recommendation score</th>\n",
       "      <th>movieId</th>\n",
       "    </tr>\n",
       "    <tr>\n",
       "      <th>movieId</th>\n",
       "      <th></th>\n",
       "      <th></th>\n",
       "    </tr>\n",
       "  </thead>\n",
       "  <tbody>\n",
       "    <tr>\n",
       "      <th>1</th>\n",
       "      <td>3.663080</td>\n",
       "      <td>1</td>\n",
       "    </tr>\n",
       "    <tr>\n",
       "      <th>2</th>\n",
       "      <td>3.060905</td>\n",
       "      <td>2</td>\n",
       "    </tr>\n",
       "    <tr>\n",
       "      <th>3</th>\n",
       "      <td>3.003402</td>\n",
       "      <td>3</td>\n",
       "    </tr>\n",
       "    <tr>\n",
       "      <th>4</th>\n",
       "      <td>2.000000</td>\n",
       "      <td>4</td>\n",
       "    </tr>\n",
       "    <tr>\n",
       "      <th>5</th>\n",
       "      <td>2.759850</td>\n",
       "      <td>5</td>\n",
       "    </tr>\n",
       "  </tbody>\n",
       "</table>\n",
       "</div>"
      ],
      "text/plain": [
       "         weighted average recommendation score  movieId\n",
       "movieId                                                \n",
       "1                                     3.663080        1\n",
       "2                                     3.060905        2\n",
       "3                                     3.003402        3\n",
       "4                                     2.000000        4\n",
       "5                                     2.759850        5"
      ]
     },
     "execution_count": 59,
     "metadata": {},
     "output_type": "execute_result"
    }
   ],
   "source": [
    "#Creates an empty dataframe\n",
    "recommend_df = pd.DataFrame()\n",
    "#Now we take the weighted average\n",
    "recommend_df['weighted average recommendation score'] = temp_Rating['sum_weightedRating']/temp_Rating['sum_similarityIndex']\n",
    "recommend_df['movieId'] = temp_Rating.index\n",
    "recommend_df.head()"
   ]
  },
  {
   "cell_type": "markdown",
   "id": "dcdd7ba3",
   "metadata": {
    "id": "dcdd7ba3"
   },
   "source": [
    "### Recommended movies\n",
    "#### Top 10 recommendated movies using Collaborative Filtering"
   ]
  },
  {
   "cell_type": "code",
   "execution_count": 60,
   "id": "fd438155",
   "metadata": {
    "colab": {
     "base_uri": "https://localhost:8080/",
     "height": 363
    },
    "id": "fd438155",
    "outputId": "f462707e-f95e-41c8-818a-769a4610ac40"
   },
   "outputs": [
    {
     "data": {
      "text/html": [
       "<div>\n",
       "<style scoped>\n",
       "    .dataframe tbody tr th:only-of-type {\n",
       "        vertical-align: middle;\n",
       "    }\n",
       "\n",
       "    .dataframe tbody tr th {\n",
       "        vertical-align: top;\n",
       "    }\n",
       "\n",
       "    .dataframe thead th {\n",
       "        text-align: right;\n",
       "    }\n",
       "</style>\n",
       "<table border=\"1\" class=\"dataframe\">\n",
       "  <thead>\n",
       "    <tr style=\"text-align: right;\">\n",
       "      <th></th>\n",
       "      <th>movieId</th>\n",
       "      <th>title</th>\n",
       "      <th>year</th>\n",
       "    </tr>\n",
       "  </thead>\n",
       "  <tbody>\n",
       "    <tr>\n",
       "      <th>536</th>\n",
       "      <td>633</td>\n",
       "      <td>Denise Calls Up</td>\n",
       "      <td>1995</td>\n",
       "    </tr>\n",
       "    <tr>\n",
       "      <th>687</th>\n",
       "      <td>905</td>\n",
       "      <td>It Happened One Night</td>\n",
       "      <td>1934</td>\n",
       "    </tr>\n",
       "    <tr>\n",
       "      <th>912</th>\n",
       "      <td>1211</td>\n",
       "      <td>Wings of Desire (Himmel über Berlin, Der)</td>\n",
       "      <td>1987</td>\n",
       "    </tr>\n",
       "    <tr>\n",
       "      <th>2484</th>\n",
       "      <td>3310</td>\n",
       "      <td>Kid, The</td>\n",
       "      <td>1921</td>\n",
       "    </tr>\n",
       "    <tr>\n",
       "      <th>3189</th>\n",
       "      <td>4298</td>\n",
       "      <td>Rififi (Du rififi chez les hommes)</td>\n",
       "      <td>1955</td>\n",
       "    </tr>\n",
       "    <tr>\n",
       "      <th>3905</th>\n",
       "      <td>5485</td>\n",
       "      <td>Tadpole</td>\n",
       "      <td>2002</td>\n",
       "    </tr>\n",
       "    <tr>\n",
       "      <th>3936</th>\n",
       "      <td>5537</td>\n",
       "      <td>Satin Rouge</td>\n",
       "      <td>2002</td>\n",
       "    </tr>\n",
       "    <tr>\n",
       "      <th>4969</th>\n",
       "      <td>7579</td>\n",
       "      <td>Pride and Prejudice</td>\n",
       "      <td>1940</td>\n",
       "    </tr>\n",
       "    <tr>\n",
       "      <th>9022</th>\n",
       "      <td>140627</td>\n",
       "      <td>Battle For Sevastopol</td>\n",
       "      <td>2015</td>\n",
       "    </tr>\n",
       "    <tr>\n",
       "      <th>9234</th>\n",
       "      <td>152711</td>\n",
       "      <td>Who Killed Chea Vichea?</td>\n",
       "      <td>2010</td>\n",
       "    </tr>\n",
       "  </tbody>\n",
       "</table>\n",
       "</div>"
      ],
      "text/plain": [
       "      movieId                                       title  year\n",
       "536       633                            Denise Calls Up   1995\n",
       "687       905                      It Happened One Night   1934\n",
       "912      1211  Wings of Desire (Himmel über Berlin, Der)   1987\n",
       "2484     3310                                   Kid, The   1921\n",
       "3189     4298         Rififi (Du rififi chez les hommes)   1955\n",
       "3905     5485                                    Tadpole   2002\n",
       "3936     5537                                Satin Rouge   2002\n",
       "4969     7579                        Pride and Prejudice   1940\n",
       "9022   140627                      Battle For Sevastopol   2015\n",
       "9234   152711                    Who Killed Chea Vichea?   2010"
      ]
     },
     "execution_count": 60,
     "metadata": {},
     "output_type": "execute_result"
    }
   ],
   "source": [
    "recommendation_df = recommend_df.sort_values(by='weighted average recommendation score', ascending=False)\n",
    "recommendation_df.head(10)\n",
    "movies_df.loc[movies_df['movieId'].isin(recommendation_df.head(10)['movieId'].tolist())]"
   ]
  },
  {
   "cell_type": "code",
   "execution_count": null,
   "id": "H_A6qM_5eoVS",
   "metadata": {
    "id": "H_A6qM_5eoVS"
   },
   "outputs": [],
   "source": []
  },
  {
   "cell_type": "markdown",
   "id": "woijGpvDo24M",
   "metadata": {
    "id": "woijGpvDo24M"
   },
   "source": [
    "# Recommendation System using Singular Value Decomposition"
   ]
  },
  {
   "cell_type": "code",
   "execution_count": 61,
   "id": "kvzKAGtIplWz",
   "metadata": {
    "id": "kvzKAGtIplWz"
   },
   "outputs": [],
   "source": [
    "import pandas as pd\n",
    "import numpy as np\n",
    "from sklearn.model_selection import train_test_split\n",
    "import matplotlib.pyplot as plt\n",
    "from ast import literal_eval\n",
    "from surprise import SVD, BaselineOnly, CoClustering, Reader\n",
    "from surprise import Dataset\n",
    "from surprise.model_selection import cross_validate\n",
    "from surprise import accuracy\n",
    "from surprise import NormalPredictor\n",
    "from surprise.prediction_algorithms import KNNBaseline\n",
    "from surprise.model_selection import GridSearchCV\n",
    "import math\n",
    "from collections import defaultdict\n",
    "import csv\n",
    "from sklearn.metrics import ndcg_score\n",
    "import time"
   ]
  },
  {
   "cell_type": "code",
   "execution_count": 62,
   "id": "ri4MDuK0q6to",
   "metadata": {
    "id": "ri4MDuK0q6to"
   },
   "outputs": [],
   "source": [
    "movies = pd.read_csv('movies.csv')\n",
    "ratings = pd.read_csv('ratings.csv')\n",
    "tags = pd.read_csv('tags.csv')"
   ]
  },
  {
   "cell_type": "code",
   "execution_count": 63,
   "id": "M5nuPmTQrKLR",
   "metadata": {
    "id": "M5nuPmTQrKLR"
   },
   "outputs": [],
   "source": [
    "#preprocessing dataframe\n",
    "dataf = pd.merge(ratings, movies, on='movieId' , how = 'left')\n",
    "dataf = dataf.drop('title', axis = 1)\n",
    "dataf['genres'] = dataf['genres'].str.split('|')\n",
    "#preprocessing tags dataframe\n",
    "tags['tag'] = tags['tag'].str.split('|')\n",
    "tags.drop('timestamp', axis=1, inplace=True)\n",
    "tags = tags.groupby(['userId','movieId'])['tag'].apply(lambda x: ','.join(x.astype(str))).reset_index()\n",
    "dataf = pd.merge(dataf, tags, on=['userId','movieId'], how='left')\n",
    "dataf['tag'] = dataf['tag'].apply(lambda d: d if isinstance(d, list) else [])\n",
    "dataf['genres'] = dataf['genres'].apply(lambda d: d if isinstance(d, list) else [])"
   ]
  },
  {
   "cell_type": "code",
   "execution_count": 64,
   "id": "bzk-WwhTr1Lp",
   "metadata": {
    "colab": {
     "base_uri": "https://localhost:8080/"
    },
    "id": "bzk-WwhTr1Lp",
    "outputId": "17f4d0e6-7a17-4817-cf75-04f18b6bcfdc"
   },
   "outputs": [],
   "source": [
    "#train test split\n",
    "training_data, testing_data = train_test_split(dataf, test_size=0.2, stratify = dataf.userId)\n",
    "training_data = training_data.sort_values(['userId', 'movieId'])\n",
    "testing_data = testing_data.sort_values(['userId','movieId'])\n",
    "training_data.to_csv('training_data.csv', index = False)\n",
    "testing_data.to_csv('testing_data.csv', index = False)\n",
    "dataset = Dataset.load_builtin('ml-1m')"
   ]
  },
  {
   "cell_type": "code",
   "execution_count": 65,
   "id": "ox5zaQWCr_-5",
   "metadata": {
    "id": "ox5zaQWCr_-5"
   },
   "outputs": [],
   "source": [
    "from surprise.model_selection import train_test_split\n",
    "train_set, test_set = train_test_split(dataset, test_size=.20)"
   ]
  },
  {
   "cell_type": "code",
   "execution_count": 66,
   "id": "paa5S-L_sIvd",
   "metadata": {
    "id": "paa5S-L_sIvd"
   },
   "outputs": [],
   "source": [
    "def measure_accuracy(algorthm, train_set, test_set):\n",
    "  algorthm.fit(train_set)\n",
    "  pred = algorthm.test(test_set)\n",
    "  accuracy.rmse(pred)\n",
    "  accuracy.mae(pred)\n",
    "  return\n",
    "  \n",
    "def data_processing(train, test):\n",
    "  reader = Reader(rating_scale=(0, 5))\n",
    "  train_set = Dataset.load_from_df(train[['userId', 'movieId', 'rating']], reader)\n",
    "  test_set = Dataset.load_from_df(test[['userId', 'movieId', 'rating']], reader)\n",
    "  train_set = train_set.construct_trainset(train_set.raw_ratings)\n",
    "  test_set = test_set.construct_testset(test_set.raw_ratings)\n",
    "  return train_set, test_set\n",
    "\n",
    "def measure_accuracy(algorthm, train_set, test_set):\n",
    "  algorthm.fit(train_set)\n",
    "  pred = algorthm.test(test_set)\n",
    "  rmse = accuracy.rmse(pred)\n",
    "  mae = accuracy.mae(pred)\n",
    "  return rmse, mae, pred"
   ]
  },
  {
   "cell_type": "code",
   "execution_count": 67,
   "id": "hoSRw86BsSRn",
   "metadata": {
    "colab": {
     "base_uri": "https://localhost:8080/"
    },
    "id": "hoSRw86BsSRn",
    "outputId": "4033a0eb-caa9-4f4e-9e5a-eb687c21e25f"
   },
   "outputs": [
    {
     "name": "stdout",
     "output_type": "stream",
     "text": [
      "BaselineOnly\n",
      "Estimating biases using als...\n",
      "RMSE: 0.8734\n",
      "MAE:  0.6725\n",
      "SVD\n",
      "RMSE: 0.8789\n",
      "MAE:  0.6746\n"
     ]
    }
   ],
   "source": [
    "training_data_csv = 'training_data.csv'\n",
    "testing_data_csv = 'testing_data.csv'\n",
    "dataf1 = pd.read_csv(training_data_csv)\n",
    "dataf2 = pd.read_csv(testing_data_csv)\n",
    "trainset, testset = data_processing(dataf1, dataf2)\n",
    "print(\"BaselineOnly\")\n",
    "algorthm = BaselineOnly()\n",
    "test_base_rmse, test_base_mae, test_base_pred  = measure_accuracy(algorthm, trainset, testset)\n",
    "print(\"SVD\")\n",
    "algorthm = SVD()\n",
    "test_svd_rmse, test_svd_mae, test_svd_pred  = measure_accuracy(algorthm, trainset, testset)"
   ]
  },
  {
   "cell_type": "code",
   "execution_count": 68,
   "id": "Ti1n0PMlsdD-",
   "metadata": {
    "id": "Ti1n0PMlsdD-"
   },
   "outputs": [],
   "source": [
    "testing_pred = pd.DataFrame(columns= ['U_id', 'I_id', 'Og_Rating', 'SVD_Rating', 'Baseline_Rating'])\n",
    "for i in range(len(test_base_pred)): \n",
    "  svd = test_svd_pred[i]\n",
    "  baseline = test_base_pred[i]\n",
    "  dataf = pd.DataFrame([[svd.uid, svd.iid, svd.r_ui, svd.est, baseline.est]], columns=['U_id', 'I_id', 'Og_Rating', 'SVD_Rating', 'Baseline_Rating'])\n",
    "  testing_pred = pd.concat([dataf, testing_pred], ignore_index=True)\n",
    "testing_pred.to_csv('testing_pred.csv')\n",
    "pred_t = pd.read_csv('testing_pred.csv')\n",
    "T = pred_t.shape[0]\n",
    "svd_weight = 0.05\n",
    "baseline_weight = 0"
   ]
  },
  {
   "cell_type": "code",
   "execution_count": 69,
   "id": "WPYwCNh_s7k4",
   "metadata": {
    "id": "WPYwCNh_s7k4"
   },
   "outputs": [],
   "source": [
    "def process_data(train, test):\n",
    "    reader = Reader(rating_scale=(0, 5))\n",
    "    train_set = Dataset.load_from_df(train[['userId', 'movieId', 'rating']], reader)\n",
    "    test_set = Dataset.load_from_df(test[['userId', 'movieId', 'rating']], reader)\n",
    "    train_set = train_set.construct_trainset(train_set.raw_ratings)\n",
    "    test_set = test_set.construct_testset(test_set.raw_ratings)\n",
    "    return train_set, test_set\n",
    "\n",
    "training_data_csv = 'training_data.csv'\n",
    "testing_data_csv = 'testing_data.csv'\n",
    "dataf1 = pd.read_csv(training_data_csv)\n",
    "dataf2 = pd.read_csv(testing_data_csv)\n",
    "trainset, testset = process_data(dataf1, dataf2)\n",
    "\n",
    "def func_topn_items(pred, n):\n",
    "    topn_items = defaultdict(list)\n",
    "    orgnl_ratngs = defaultdict(list)\n",
    "    for uid, iid, true_r, est, _ in pred:\n",
    "        topn_items[uid].append((iid, est))\n",
    "        orgnl_ratngs[uid].append((iid, true_r))\n",
    "    for uid, user_ratings in topn_items.items():\n",
    "        user_ratings.sort(key=lambda x: x[1], reverse=True)\n",
    "        topn_items[uid] = user_ratings[:n]\n",
    "    return topn_items, orgnl_ratngs\n",
    "\n",
    "def discounted_cg(s):\n",
    "    return s[0] + sum(sc/math.log(ind, 2) for sc, ind in zip(s[1:], range(2, len(s) + 1)))\n",
    "\n",
    "def normalized_discounted_cg(s):\n",
    "    idcg = discounted_cg(sorted(s, reverse=True))\n",
    "    return (discounted_cg(s)/idcg) if idcg > 0.0 else 0.0\n",
    "\n",
    "def precision_and_recall(pred, k=5, threshold=3.5):\n",
    "    u_est_true = defaultdict(list)\n",
    "    for uid, _, true_r, est, _ in pred:\n",
    "        u_est_true[uid].append((est, true_r))\n",
    "    precisions_vals = dict()\n",
    "    recalls_vals = dict()\n",
    "    for uid, user_ratings in u_est_true.items():\n",
    "        user_ratings.sort(key=lambda x: x[0], reverse=True)\n",
    "        n_rel = sum((true_r >= threshold) for (_, true_r) in user_ratings)\n",
    "        n_rec_k = sum((est >= threshold) for (est, _) in user_ratings[:k])\n",
    "        n_rel_and_rec_k = sum(((true_r >= threshold) and (est >= threshold))\n",
    "                              for (est, true_r) in user_ratings[:k])\n",
    "        precisions_vals[uid] = n_rel_and_rec_k / n_rec_k if n_rec_k != 0 else 1\n",
    "        recalls_vals[uid] = n_rel_and_rec_k / n_rel if n_rel != 0 else 1\n",
    "    precision = (sum(prec for prec in precisions_vals.values()) / len(precisions_vals))\n",
    "    recall = (sum(rec for rec in recalls_vals.values()) / len(recalls_vals))\n",
    "    return precision, recall\n",
    "\n",
    "def recmndation(algorthm, trainset, testset):\n",
    "  algorthm.fit(trainset)\n",
    "  testing_preds = algorthm.test(testset)\n",
    "  Rmse = accuracy.rmse(testing_preds)\n",
    "  Mae = accuracy.mae(testing_preds)\n",
    "  topn_items, orgnl_ratngs = func_topn_items(testing_preds, 5)\n",
    "  precision, recall = precision_and_recall(testing_preds)\n",
    "  f_measure = (2*precision*recall)/(precision+recall)\n",
    "  ndcg_scores = dict()\n",
    "  for uid, user_ratings in topn_items.items():\n",
    "    s = []\n",
    "    for iid, est_r in user_ratings:\n",
    "        iid_found = False\n",
    "        org_user_ratings = orgnl_ratngs[uid]\n",
    "        for i, r in org_user_ratings:\n",
    "            if iid == i:\n",
    "                s.append(r)\n",
    "                iid_found = True\n",
    "                break\n",
    "        if not iid_found:\n",
    "            s.append(0)\n",
    "    ndcg_scores[uid] = normalized_discounted_cg(s)\n",
    "  ndcg_score = sum(ndcg for ndcg in ndcg_scores.values())/len(ndcg_scores)\n",
    "  return (Rmse, Mae, precision, recall, f_measure, ndcg_score, testing_preds)\n",
    "\n",
    "surprise_df = pd.DataFrame(columns= ['Algorithm', 'Rmse', 'Mae', 'Precision', 'Recall', 'F-measure', 'NDCG'])"
   ]
  },
  {
   "cell_type": "code",
   "execution_count": 70,
   "id": "5E4BeGINtVaF",
   "metadata": {
    "colab": {
     "base_uri": "https://localhost:8080/",
     "height": 234
    },
    "id": "5E4BeGINtVaF",
    "outputId": "08079965-ba9b-4643-d4e1-01342ff04f24"
   },
   "outputs": [
    {
     "name": "stdout",
     "output_type": "stream",
     "text": [
      "RMSE: 0.8770\n",
      "MAE:  0.6720\n",
      "Algorithm: SVD\n",
      "Estimating biases using als...\n",
      "RMSE: 0.8734\n",
      "MAE:  0.6725\n",
      "Algorithm: BaselineOnly\n"
     ]
    },
    {
     "data": {
      "text/html": [
       "<div>\n",
       "<style scoped>\n",
       "    .dataframe tbody tr th:only-of-type {\n",
       "        vertical-align: middle;\n",
       "    }\n",
       "\n",
       "    .dataframe tbody tr th {\n",
       "        vertical-align: top;\n",
       "    }\n",
       "\n",
       "    .dataframe thead th {\n",
       "        text-align: right;\n",
       "    }\n",
       "</style>\n",
       "<table border=\"1\" class=\"dataframe\">\n",
       "  <thead>\n",
       "    <tr style=\"text-align: right;\">\n",
       "      <th></th>\n",
       "      <th>Algorithm</th>\n",
       "      <th>Rmse</th>\n",
       "      <th>Mae</th>\n",
       "      <th>Precision</th>\n",
       "      <th>Recall</th>\n",
       "      <th>F-measure</th>\n",
       "      <th>NDCG</th>\n",
       "    </tr>\n",
       "  </thead>\n",
       "  <tbody>\n",
       "    <tr>\n",
       "      <th>1</th>\n",
       "      <td>SVD</td>\n",
       "      <td>0.876977</td>\n",
       "      <td>0.672045</td>\n",
       "      <td>0.823852</td>\n",
       "      <td>0.405421</td>\n",
       "      <td>0.543422</td>\n",
       "      <td>0.960318</td>\n",
       "    </tr>\n",
       "    <tr>\n",
       "      <th>0</th>\n",
       "      <td>BaselineOnly</td>\n",
       "      <td>0.873406</td>\n",
       "      <td>0.672481</td>\n",
       "      <td>0.825519</td>\n",
       "      <td>0.407513</td>\n",
       "      <td>0.545662</td>\n",
       "      <td>0.960388</td>\n",
       "    </tr>\n",
       "  </tbody>\n",
       "</table>\n",
       "</div>"
      ],
      "text/plain": [
       "      Algorithm      Rmse       Mae Precision    Recall F-measure      NDCG\n",
       "1           SVD  0.876977  0.672045  0.823852  0.405421  0.543422  0.960318\n",
       "0  BaselineOnly  0.873406  0.672481  0.825519  0.407513  0.545662  0.960388"
      ]
     },
     "execution_count": 70,
     "metadata": {},
     "output_type": "execute_result"
    }
   ],
   "source": [
    "for algorithm in [SVD(), BaselineOnly()]:\n",
    "    results = recmndation(algorithm,trainset,testset) \n",
    "    \n",
    "    name =str(algorithm).split(' ')[0].split('.')[-1]\n",
    "    print(\"Algorithm:\", name)\n",
    "    dataf = pd.DataFrame([[name, results[0], results[1], results[2], results[3], results[4], results[5]]], columns= ['Algorithm', 'Rmse', 'Mae', 'Precision', 'Recall', 'F-measure', 'NDCG'])\n",
    "    surprise_df = pd.concat([dataf, surprise_df], ignore_index=True)\n",
    "surprise_df.sort_values(by='Rmse', ascending=False) "
   ]
  },
  {
   "cell_type": "code",
   "execution_count": null,
   "id": "NEzGyaiztXv7",
   "metadata": {
    "id": "NEzGyaiztXv7"
   },
   "outputs": [],
   "source": []
  }
 ],
 "metadata": {
  "colab": {
   "provenance": []
  },
  "kernelspec": {
   "display_name": "Python 3 (ipykernel)",
   "language": "python",
   "name": "python3"
  },
  "language_info": {
   "codemirror_mode": {
    "name": "ipython",
    "version": 3
   },
   "file_extension": ".py",
   "mimetype": "text/x-python",
   "name": "python",
   "nbconvert_exporter": "python",
   "pygments_lexer": "ipython3",
   "version": "3.9.12"
  }
 },
 "nbformat": 4,
 "nbformat_minor": 5
}
